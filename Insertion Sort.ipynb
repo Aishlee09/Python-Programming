{
 "cells": [
  {
   "cell_type": "code",
   "execution_count": 2,
   "id": "dca27f85",
   "metadata": {},
   "outputs": [
    {
     "name": "stdout",
     "output_type": "stream",
     "text": [
      "\n",
      " Enter number of elements: 7\n",
      " Enter the items:\n",
      "\n",
      "12\n",
      "14\n",
      "55\n",
      "89\n",
      "10\n",
      "92\n",
      "36\n",
      " The sorted list is: \n",
      " [10, 12, 14, 36, 55, 89, 92]\n",
      "\n",
      "\n"
     ]
    }
   ],
   "source": [
    "def insertionSort(list):\n",
    "    for i in range(1,len(list)):\n",
    "        value = list[i]\n",
    "        pos = i\n",
    "        while pos > 0 and list[pos-1] > value:\n",
    "            list[pos] = list[pos-1]\n",
    "            pos = pos-1\n",
    "        list[pos] = value\n",
    "list = []\n",
    "n = int(input(\"\\nEnter number of elements: \"))\n",
    "print(\"\\nEnter the items:\")\n",
    "for i in range(0,n):\n",
    "    element = int(input(\" \"))\n",
    "    list.append(element)\n",
    "insertionSort(list)\n",
    "print('\\nThe sorted list is: \\n',list)\n",
    "print('\\n')\n"
   ]
  },
  {
   "cell_type": "code",
   "execution_count": null,
   "id": "32a67513",
   "metadata": {},
   "outputs": [],
   "source": []
  }
 ],
 "metadata": {
  "kernelspec": {
   "display_name": "Python 3 (ipykernel)",
   "language": "python",
   "name": "python3"
  },
  "language_info": {
   "codemirror_mode": {
    "name": "ipython",
    "version": 3
   },
   "file_extension": ".py",
   "mimetype": "text/x-python",
   "name": "python",
   "nbconvert_exporter": "python",
   "pygments_lexer": "ipython3",
   "version": "3.9.7"
  }
 },
 "nbformat": 4,
 "nbformat_minor": 5
}
