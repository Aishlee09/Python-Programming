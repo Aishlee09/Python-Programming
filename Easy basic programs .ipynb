{
 "cells": [
  {
   "cell_type": "code",
   "execution_count": 4,
   "id": "aede86c5",
   "metadata": {},
   "outputs": [
    {
     "name": "stdout",
     "output_type": "stream",
     "text": [
      "\n",
      "The string is given by-\n",
      " You have a class on 2023-12-20 at 11:30:20 hrs.\n",
      "\n",
      "The Date & Time from above string is:\n",
      "2023-12-20\n",
      "11:30:20\n",
      "\n"
     ]
    }
   ],
   "source": [
    "# Extract date and time from the string\n",
    "\n",
    "import re\n",
    "s = \"You have a class on 2023-12-20 at 11:30:20 hrs.\"\n",
    "print(\"\\nThe string is given by-\\n\", s)\n",
    "print(\"\\nThe Date & Time from above string is:\")\n",
    "match1 = re.search(r'[0-9]{4}\\-[0-9]{2}\\-[0-9]{2}',s)\n",
    "match2 = re.search(r'[0-9]{2}:[0-9]{2}:[0-9]{2}',s)\n",
    "print(match1.group())\n",
    "print(match2.group())\n",
    "print()"
   ]
  },
  {
   "cell_type": "code",
   "execution_count": 11,
   "id": "48100c90",
   "metadata": {},
   "outputs": [
    {
     "name": "stdout",
     "output_type": "stream",
     "text": [
      "\n",
      " Enter the number which you want to convert into roman:\n",
      " 100\n",
      "\n",
      " The roman numeral of above number is given by:\n",
      " C\n",
      "\n"
     ]
    }
   ],
   "source": [
    "# Convert number to roman numeral \n",
    "\n",
    "class roman:\n",
    "    def num_to_roman(self,n):\n",
    "        num = [1000, 900, 500, 400, 100, 90, 50, 40, 10, 9, 5, 4, 1]\n",
    "        roman = ['M','CM','D','CD','C','XC','L','XL','X','IX','V','IV','I']\n",
    "        s = ''\n",
    "        i = 0\n",
    "        while n>0:\n",
    "            for j in range(n//num[i]):\n",
    "                s += roman[i]\n",
    "                n -= num[i]\n",
    "            i += 1\n",
    "        return s\n",
    "n = int(input(\"\\n Enter the number which you want to convert into roman:\\n \"))\n",
    "print(\"\\n The roman numeral of above number is given by:\\n\",roman().num_to_roman(n))\n",
    "print()"
   ]
  },
  {
   "cell_type": "code",
   "execution_count": 19,
   "id": "309a441c",
   "metadata": {},
   "outputs": [
    {
     "name": "stdout",
     "output_type": "stream",
     "text": [
      "\n",
      " Current date and time in IST: \n",
      "\n",
      " Thu Dec 28 08:52:47 IST 2023 \n",
      "\n"
     ]
    }
   ],
   "source": [
    "# Print date and time as per IST \n",
    "\n",
    "from datetime import datetime\n",
    "import pytz\n",
    "IST = pytz.timezone('Asia/Kolkata')\n",
    "datetime = datetime.now(IST)\n",
    "print(\"\\n Current date and time in IST: \")\n",
    "print(datetime.strftime(\"\\n %a %b %d %H:%M:%S %Z %Y \\n\"))"
   ]
  },
  {
   "cell_type": "code",
   "execution_count": 20,
   "id": "5b3f7596",
   "metadata": {},
   "outputs": [
    {
     "name": "stdout",
     "output_type": "stream",
     "text": [
      "\n",
      " Enter number of elements: 4\n",
      " Enter key-value pairs of the dictionary: \n",
      "\n",
      " Enter key: name\n",
      " Enter value: aish, nick, sam\n",
      " Enter key: age\n",
      " Enter value: 22, 18, 26\n",
      " Enter key: country\n",
      " Enter value: India, USA, UK\n",
      " Enter key: marks\n",
      " Enter value: 80, 90, 95\n",
      "\n",
      " Given dictionary is: \n",
      " {'name': 'aish, nick, sam', 'age': '22, 18, 26', 'country': 'India, USA, UK', 'marks': '80, 90, 95'}\n",
      "\n",
      " The dictionary sorted in alphabetical order by the key is: \n",
      "[('age', '22, 18, 26'), ('country', 'India, USA, UK'), ('marks', '80, 90, 95'), ('name', 'aish, nick, sam')]\n",
      "\n",
      "\n"
     ]
    }
   ],
   "source": [
    "# Dictionary sorted in alphabetical order\n",
    "\n",
    "d = {}\n",
    "n = int(input(\"\\n Enter number of elements: \"))\n",
    "print(\" Enter key-value pairs of the dictionary: \\n\")\n",
    "for i in range(n):\n",
    "    key = input(\" Enter key: \")\n",
    "    value = input(\" Enter value: \")\n",
    "    d.update({key:value})\n",
    "print(\"\\n Given dictionary is: \\n\",d)\n",
    "print(\"\\n The dictionary sorted in alphabetical order by the key is: \")\n",
    "d1=sorted(d.items())\n",
    "print(d1)\n",
    "print('\\n')"
   ]
  },
  {
   "cell_type": "code",
   "execution_count": 22,
   "id": "ec7fb747",
   "metadata": {},
   "outputs": [
    {
     "name": "stdout",
     "output_type": "stream",
     "text": [
      "Enter the temperature you want to convert: \n",
      "75C\n",
      "The temperature in Fahrenheit  is  167 degrees.\n"
     ]
    }
   ],
   "source": [
    "# Convert temperature into Celsius and Fahrenheit\n",
    "\n",
    "temp = input(\"Enter the temperature you want to convert: \\n\")\n",
    "deg = int(temp[:-1])\n",
    "t = temp[-1]\n",
    "if t.upper() == 'C':\n",
    "    result = int(round((9*deg) / 5+32))\n",
    "    t = \"Fahrenheit\"\n",
    "elif t.upper() == 'F':\n",
    "    result = int(round((deg-32) * 5/9))\n",
    "    t = \"Celsius\"\n",
    "else:\n",
    "    print(\"Input proper convention.\")\n",
    "print(\"The temperature in\", t,\" is \", result, \"degrees.\")"
   ]
  },
  {
   "cell_type": "code",
   "execution_count": 23,
   "id": "ffd82c96",
   "metadata": {},
   "outputs": [
    {
     "name": "stdout",
     "output_type": "stream",
     "text": [
      "Enter the base: \n",
      "35\n",
      "Enter exponential value: \n",
      "5\n",
      "\n",
      "Result is: \n",
      " 52521875\n"
     ]
    }
   ],
   "source": [
    "# Calculate the power\n",
    "\n",
    "class power:\n",
    "    def pow(self, x, n):\n",
    "        if n == 1:\n",
    "            return(x)\n",
    "        if n == 0:\n",
    "            return 1\n",
    "        if n != 1:\n",
    "            return(x * pow(x,n-1))\n",
    "        \n",
    "x = int(input(\"Enter the base: \\n\"))\n",
    "n = int(input(\"Enter exponential value: \\n\"))\n",
    "print(\"\\nResult is: \\n\", power().pow(x,n))"
   ]
  },
  {
   "cell_type": "code",
   "execution_count": null,
   "id": "83b41a45",
   "metadata": {},
   "outputs": [],
   "source": []
  }
 ],
 "metadata": {
  "kernelspec": {
   "display_name": "Python 3 (ipykernel)",
   "language": "python",
   "name": "python3"
  },
  "language_info": {
   "codemirror_mode": {
    "name": "ipython",
    "version": 3
   },
   "file_extension": ".py",
   "mimetype": "text/x-python",
   "name": "python",
   "nbconvert_exporter": "python",
   "pygments_lexer": "ipython3",
   "version": "3.9.7"
  }
 },
 "nbformat": 4,
 "nbformat_minor": 5
}
