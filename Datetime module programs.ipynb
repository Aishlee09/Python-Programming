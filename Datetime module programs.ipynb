{
 "cells": [
  {
   "cell_type": "markdown",
   "id": "d6a759e7",
   "metadata": {},
   "source": [
    "__1. Use the datetime module to write a program that gets the current date and prints the day of the week.__"
   ]
  },
  {
   "cell_type": "code",
   "execution_count": 1,
   "id": "41db6956",
   "metadata": {},
   "outputs": [
    {
     "name": "stdout",
     "output_type": "stream",
     "text": [
      "Today's date is:  2023-12-18\n",
      "Day of the week is:  Monday\n"
     ]
    }
   ],
   "source": [
    "import datetime\n",
    "\n",
    "today_date = datetime.date.today()\n",
    "print(\"Today's date is:\", today_date)\n",
    "\n",
    "week_day = today_date.weekday()\n",
    "day_name = today_date.strftime(\"%A\")\n",
    "print(\"Day of the week is:\", day_name)"
   ]
  },
  {
   "cell_type": "markdown",
   "id": "1482bcab",
   "metadata": {},
   "source": [
    "__2. Write a program that takes birthday of a person and calculates the total number of seconds they have been living in epoch time.__"
   ]
  },
  {
   "cell_type": "code",
   "execution_count": 4,
   "id": "8d89aea3",
   "metadata": {},
   "outputs": [
    {
     "name": "stdout",
     "output_type": "stream",
     "text": [
      "Enter your birthday (YYYY-MM-DD): 2000-12-06\n",
      "Seconds you've been living since epoch time: 976060800.0\n"
     ]
    }
   ],
   "source": [
    "from datetime import datetime\n",
    "\n",
    "bday = input(\"Enter your birthday (YYYY-MM-DD): \")\n",
    "dob = datetime.strptime(bday, \"%Y-%m-%d\")\n",
    "epoch_time = datetime.utcfromtimestamp(0)\n",
    "sec_since_epoch = (dob - epoch_time).total_seconds()\n",
    "print(\"Seconds you've been living since epoch time:\", sec_since_epoch)"
   ]
  },
  {
   "cell_type": "markdown",
   "id": "2ef8a6d0",
   "metadata": {},
   "source": [
    "__3. Write a program to print the date for yesterday, today, and tomorrow.__"
   ]
  },
  {
   "cell_type": "code",
   "execution_count": 7,
   "id": "65cc1bfb",
   "metadata": {},
   "outputs": [
    {
     "name": "stdout",
     "output_type": "stream",
     "text": [
      "Yesterday's date: 2023-12-17\n",
      "Today's date: 2023-12-18\n",
      "Tomorrow's date: 2023-12-19\n"
     ]
    }
   ],
   "source": [
    "from datetime import datetime, timedelta\n",
    "\n",
    "today_date = datetime.now()\n",
    "yesterday_date = today_date - timedelta(days = 1)\n",
    "tomorrow_date = today_date + timedelta(days = 1)\n",
    "print(\"Yesterday's date:\", yesterday_date.strftime(\"%Y-%m-%d\"))\n",
    "print(\"Today's date:\", today_date.strftime(\"%Y-%m-%d\"))\n",
    "print(\"Tomorrow's date:\", tomorrow_date.strftime(\"%Y-%m-%d\"))"
   ]
  },
  {
   "cell_type": "markdown",
   "id": "63c10eaa",
   "metadata": {},
   "source": [
    "__4. Write a program that takes a birthday of user as input and prints the user's age and the number of days, hours, minutes and seconds until their next birthday.__"
   ]
  },
  {
   "cell_type": "code",
   "execution_count": 10,
   "id": "885c76ae",
   "metadata": {},
   "outputs": [
    {
     "name": "stdout",
     "output_type": "stream",
     "text": [
      "Enter your birthday (YYYY-MM-DD): 2000-12-06\n",
      "Your age is: 23\n",
      "Time until your next birthday: \n",
      " 353 days, \n",
      " 1 hours, \n",
      " 18 minutes, \n",
      " 46 seconds.\n"
     ]
    }
   ],
   "source": [
    "from datetime import datetime\n",
    "\n",
    "today = datetime.today()\n",
    "bday = input(\"Enter your birthday (YYYY-MM-DD): \")\n",
    "dob = datetime.strptime(bday, \"%Y-%m-%d\")\n",
    "age = today.year - dob.year - ((today.month, today.day) < (dob.month, dob.day))\n",
    "next_bday = datetime(today.year, dob.month, dob.day)\n",
    "\n",
    "if today > next_bday:\n",
    "    next_bday = datetime(today.year + 1, dob.month, dob.day)\n",
    "\n",
    "time_until_bday = next_bday - today\n",
    "days_until_bday = time_until_bday.days\n",
    "hours, remainder = divmod(time_until_bday.seconds, 3600)\n",
    "minutes, seconds = divmod(remainder, 60)\n",
    "\n",
    "print(\"Your age is:\", age)\n",
    "print(f\"Time until your next birthday: \\n {days_until_bday} days, \\n {hours} hours, \\n {minutes} minutes, \\n {seconds} seconds.\")\n"
   ]
  },
  {
   "cell_type": "code",
   "execution_count": null,
   "id": "55cc6f67",
   "metadata": {},
   "outputs": [],
   "source": []
  }
 ],
 "metadata": {
  "kernelspec": {
   "display_name": "Python 3 (ipykernel)",
   "language": "python",
   "name": "python3"
  },
  "language_info": {
   "codemirror_mode": {
    "name": "ipython",
    "version": 3
   },
   "file_extension": ".py",
   "mimetype": "text/x-python",
   "name": "python",
   "nbconvert_exporter": "python",
   "pygments_lexer": "ipython3",
   "version": "3.9.7"
  }
 },
 "nbformat": 4,
 "nbformat_minor": 5
}
