{
 "cells": [
  {
   "cell_type": "code",
   "execution_count": 3,
   "id": "2ef329f9",
   "metadata": {},
   "outputs": [
    {
     "name": "stdout",
     "output_type": "stream",
     "text": [
      "\n",
      "        Python is a high level, dynamic programming language which is used \n",
      "        for this project. Python 3.7 version is used as there are extensive \n",
      "        open-source libraries available for this version of python. Python \n",
      "        is simple yet powerful, dynamic and interpreted programming language, \n",
      "        which is well known for its functionality of processing NL data. \n",
      "        \n",
      "\n",
      "        Python is a high level, dynamic programming language which is used \n",
      "        for this project. Python 3.7 version is used as there are extensive \n",
      "        open-source libraries available for this version of python. Python \n",
      "        is simple yet powerful, dynamic and interpreted programming language, \n",
      "        which is well known for its functionality of processing NL data. \n",
      "        \n",
      "        Python is a high level, dynamic programming language which is used \n",
      "        for this project. Python 3.7 version is used as there are extensive \n",
      "        open-source libraries available for this version of python. Python \n",
      "        is simple yet powerful, dynamic and interpreted programming language, \n",
      "        which is well known for its functionality of processing NL data. \n",
      "        "
     ]
    }
   ],
   "source": [
    "# Question 10.1\n",
    "\n",
    "# Writing to the file learning_python.txt\n",
    "with open('learning_python.txt', 'w') as file:\n",
    "    file.write('''\n",
    "        Python is a high level, dynamic programming language which is used \n",
    "        for this project. Python 3.7 version is used as there are extensive \n",
    "        open-source libraries available for this version of python. Python \n",
    "        is simple yet powerful, dynamic and interpreted programming language, \n",
    "        which is well known for its functionality of processing NL data. \n",
    "        ''')\n",
    "\n",
    "# Reading and printing the file three times\n",
    "# Method-1: Read in the entire file\n",
    "with open('learning_python.txt', 'r') as file:\n",
    "    contents = file.read()\n",
    "    print(contents)\n",
    "\n",
    "# Method-2: Loop over the file object\n",
    "with open('learning_python.txt', 'r') as file:\n",
    "    for i in file:\n",
    "        print(i, end = '')\n",
    "        \n",
    "# Method-3: Store lines in a list and work with them outside the 'with' statement\n",
    "with open('learning_python.txt', 'r') as file:\n",
    "    lines = file.readlines()\n",
    "for i in lines:\n",
    "    print(i, end = '')"
   ]
  },
  {
   "cell_type": "code",
   "execution_count": 4,
   "id": "5dc85630",
   "metadata": {},
   "outputs": [
    {
     "name": "stdout",
     "output_type": "stream",
     "text": [
      "\n",
      "        C is a high level, dynamic programming language which is used \n",
      "        for this project. C 3.7 version is used as there are extensive \n",
      "        open-source libraries available for this version of python. C \n",
      "        is simple yet powerful, dynamic and interpreted programming language, \n",
      "        which is well known for its functionality of processing NL data. \n",
      "        "
     ]
    }
   ],
   "source": [
    "# Question 10.2\n",
    "\n",
    "# Reading the file learning_python.txt and replacing 'Python' with 'C'\n",
    "with open('learning_python.txt', 'r') as file:\n",
    "    for i in file:\n",
    "        line = i.replace('Python', 'C')\n",
    "        print(line, end = '')"
   ]
  },
  {
   "cell_type": "code",
   "execution_count": 5,
   "id": "b59d0de6",
   "metadata": {},
   "outputs": [
    {
     "name": "stdout",
     "output_type": "stream",
     "text": [
      "Enter your name: Aishlee :)\n"
     ]
    }
   ],
   "source": [
    "# Question 10.3\n",
    "\n",
    "# Writing user's name to guest.txt\n",
    "name = input(\"Enter your name: \")\n",
    "with open('guest.txt', 'w') as file:\n",
    "    file.write(name)"
   ]
  },
  {
   "cell_type": "code",
   "execution_count": 6,
   "id": "ba70f39c",
   "metadata": {},
   "outputs": [
    {
     "name": "stdout",
     "output_type": "stream",
     "text": [
      "Enter your name (type 'quit' to exit): Aishlee\n",
      "Hello, Aishlee! Welcome to the guest book.\n",
      "Thank you for visiting! Your name has been recorded in guest_book.txt.\n",
      "Enter your name (type 'quit' to exit): Nikhil\n",
      "Hello, Nikhil! Welcome to the guest book.\n",
      "Thank you for visiting! Your name has been recorded in guest_book.txt.\n",
      "Enter your name (type 'quit' to exit): Ayaan\n",
      "Hello, Ayaan! Welcome to the guest book.\n",
      "Thank you for visiting! Your name has been recorded in guest_book.txt.\n",
      "Enter your name (type 'quit' to exit): Heaven\n",
      "Hello, Heaven! Welcome to the guest book.\n",
      "Thank you for visiting! Your name has been recorded in guest_book.txt.\n",
      "Enter your name (type 'quit' to exit): quit\n"
     ]
    }
   ],
   "source": [
    "# Question 10.4\n",
    "\n",
    "# Writing user names to guest_book.txt in a while loop\n",
    "while True:\n",
    "    name = input(\"Enter your name (type 'quit' to exit): \")\n",
    "    if name.lower() == 'quit':\n",
    "        break\n",
    "    else:\n",
    "        greeting = f\"Hello, {name}! Welcome to the guest book.\"\n",
    "        print(greeting)\n",
    "        with open('guest_book.txt', 'a') as file:\n",
    "            file.write(greeting + '\\n')\n",
    "        print(\"Thank you for visiting! Your name has been recorded in guest_book.txt.\")"
   ]
  },
  {
   "cell_type": "code",
   "execution_count": 9,
   "id": "b489ef1b",
   "metadata": {},
   "outputs": [
    {
     "name": "stdout",
     "output_type": "stream",
     "text": [
      "Why do you like programming? (type 'quit' to exit): I like programming\n",
      "Why do you like programming? (type 'quit' to exit): because it is hard hahaha\n",
      "Why do you like programming? (type 'quit' to exit): and I always challenge myself to do hard things.\n",
      "Why do you like programming? (type 'quit' to exit): quit\n",
      "Thank you for sharing your reasons! Responses have been recorded in programming_poll.txt.\n"
     ]
    }
   ],
   "source": [
    "# Question 10.5\n",
    "\n",
    "# Writing reasons for liking programming to a file in a while loop\n",
    "while True:\n",
    "    reason = input(\"Why do you like programming? (type 'quit' to exit): \")\n",
    "    if reason.lower() == 'quit':\n",
    "        break\n",
    "    else:\n",
    "        with open('programming_poll.txt', 'a') as file:\n",
    "            file.write(reason + '\\n')\n",
    "print(\"Thank you for sharing your reasons! Responses have been recorded in programming_poll.txt.\")"
   ]
  }
 ],
 "metadata": {
  "kernelspec": {
   "display_name": "Python 3 (ipykernel)",
   "language": "python",
   "name": "python3"
  },
  "language_info": {
   "codemirror_mode": {
    "name": "ipython",
    "version": 3
   },
   "file_extension": ".py",
   "mimetype": "text/x-python",
   "name": "python",
   "nbconvert_exporter": "python",
   "pygments_lexer": "ipython3",
   "version": "3.9.7"
  }
 },
 "nbformat": 4,
 "nbformat_minor": 5
}
