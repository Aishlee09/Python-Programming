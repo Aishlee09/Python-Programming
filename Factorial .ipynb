{
 "cells": [
  {
   "cell_type": "code",
   "execution_count": 1,
   "id": "970cdf81",
   "metadata": {},
   "outputs": [
    {
     "name": "stdout",
     "output_type": "stream",
     "text": [
      "\n",
      " Enter the number:\n",
      " 9\n",
      "\n",
      " The factorial of given number is: \n",
      " 362880\n",
      "\n",
      "\n"
     ]
    }
   ],
   "source": [
    "def fact(n):\n",
    "    if(n <= 1):\n",
    "        return 1\n",
    "    else:\n",
    "        return(n * fact(n-1))\n",
    "n = int(input(\"\\n Enter the number:\\n \"))\n",
    "print(\"\\n The factorial of given number is: \\n\",fact(n))\n",
    "print('\\n')"
   ]
  },
  {
   "cell_type": "code",
   "execution_count": 4,
   "id": "911b80e7",
   "metadata": {},
   "outputs": [
    {
     "name": "stdout",
     "output_type": "stream",
     "text": [
      "\n",
      "Enter the number:\n",
      "6\n",
      "\n",
      "The factorial of 6 is: \n",
      "720\n"
     ]
    }
   ],
   "source": [
    "num = int(input(\"\\nEnter the number:\\n\"))\n",
    "fact = 1\n",
    "if num < 0:\n",
    "    print(\"Factorial does not exist for negative numbers.\")\n",
    "elif num == 0:\n",
    "    print(\"The factorial of 0 is: 1\")\n",
    "else:\n",
    "    for i in range(1, num + 1):\n",
    "        fact = fact * i\n",
    "    print(f\"\\nThe factorial of {num} is: \\n{fact}\")"
   ]
  },
  {
   "cell_type": "code",
   "execution_count": null,
   "id": "8820dec3",
   "metadata": {},
   "outputs": [],
   "source": []
  }
 ],
 "metadata": {
  "kernelspec": {
   "display_name": "Python 3 (ipykernel)",
   "language": "python",
   "name": "python3"
  },
  "language_info": {
   "codemirror_mode": {
    "name": "ipython",
    "version": 3
   },
   "file_extension": ".py",
   "mimetype": "text/x-python",
   "name": "python",
   "nbconvert_exporter": "python",
   "pygments_lexer": "ipython3",
   "version": "3.9.7"
  }
 },
 "nbformat": 4,
 "nbformat_minor": 5
}
