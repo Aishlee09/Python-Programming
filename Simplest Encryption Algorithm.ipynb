{
 "cells": [
  {
   "cell_type": "markdown",
   "id": "6b005f08",
   "metadata": {},
   "source": [
    "__The Encryption Algorithm__\n",
    "\n",
    "A Caesar cypher is a weak form of encryption that involves \"rotating\" each letter by a fixed number of places. To rotate a letter means to shift it through the aphabet, wrapping around to the beginning if necessary, so 'B'rotated by 2 is 'D' and 'Z' rotated by 2 is 'B'.\n"
   ]
  },
  {
   "cell_type": "code",
   "execution_count": 3,
   "id": "f95478b6",
   "metadata": {},
   "outputs": [
    {
     "name": "stdout",
     "output_type": "stream",
     "text": [
      "\n",
      "Enter the text: cheer\n",
      "Enter the number of positions we want to shift the character by: 7\n",
      "The new string that contains the letters from the original string rotated by the 7 is: \n",
      "Encrypted text: jolly\n",
      "\n",
      "Do you want to encrypt the string again? (yes/no): yes\n",
      "\n",
      "Enter the text: BXZ\n",
      "Enter the number of positions we want to shift the character by: 2\n",
      "The new string that contains the letters from the original string rotated by the 2 is: \n",
      "Encrypted text: DZB\n",
      "\n",
      "Do you want to encrypt the string again? (yes/no): yes\n",
      "\n",
      "Enter the text: Einstein\n",
      "Enter the number of positions we want to shift the character by: 4\n",
      "The new string that contains the letters from the original string rotated by the 4 is: \n",
      "Encrypted text: Imrwximr\n",
      "\n",
      "Do you want to encrypt the string again? (yes/no): no\n"
     ]
    }
   ],
   "source": [
    "def caesar_cipher(text, num):\n",
    "    # an empty string to store the encrypted text\n",
    "    new_string = \"\"\n",
    "    \n",
    "    for char in text:\n",
    "        # For uppercase characters\n",
    "        if char.isupper():\n",
    "            # convert the char to its ASCII code & apply the caesar cipher shift\n",
    "            new_string += chr((ord(char) - 65 + num) % 26 + 65)\n",
    "        # For lowercase characters\n",
    "        elif char.islower():\n",
    "            new_string += chr((ord(char) - 97 + num) % 26 + 97)\n",
    "        # For non-alphabetic characters \n",
    "        else:\n",
    "            new_string += char  \n",
    "\n",
    "    return new_string\n",
    "\n",
    "while True:\n",
    "    \n",
    "    text = input(\"\\nEnter the text: \")\n",
    "    num = int(input(\"Enter the number of positions we want to shift the character by: \"))\n",
    "\n",
    "    new_string = caesar_cipher(text, num)\n",
    "    print(f'The new string that contains the letters from the original string rotated by the {num} is: ')\n",
    "    print(\"Encrypted text:\", new_string)\n",
    "    \n",
    "    choice = input(\"\\nDo you want to encrypt the string again? (yes/no): \")\n",
    "    if choice.lower() == \"yes\":\n",
    "        continue\n",
    "    elif choice.lower() == \"no\":\n",
    "        break\n",
    "    else:\n",
    "        break"
   ]
  }
 ],
 "metadata": {
  "kernelspec": {
   "display_name": "Python 3 (ipykernel)",
   "language": "python",
   "name": "python3"
  },
  "language_info": {
   "codemirror_mode": {
    "name": "ipython",
    "version": 3
   },
   "file_extension": ".py",
   "mimetype": "text/x-python",
   "name": "python",
   "nbconvert_exporter": "python",
   "pygments_lexer": "ipython3",
   "version": "3.9.7"
  }
 },
 "nbformat": 4,
 "nbformat_minor": 5
}
