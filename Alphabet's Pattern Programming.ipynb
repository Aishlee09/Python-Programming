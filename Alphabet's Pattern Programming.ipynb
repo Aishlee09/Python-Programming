{
 "cells": [
  {
   "cell_type": "code",
   "execution_count": 1,
   "id": "d1c61aa4",
   "metadata": {},
   "outputs": [
    {
     "name": "stdout",
     "output_type": "stream",
     "text": [
      "  # # #   \n",
      "#       # \n",
      "#       # \n",
      "# # # # # \n",
      "#       # \n",
      "#       # \n",
      "#       # \n"
     ]
    }
   ],
   "source": [
    "for i in range(7):\n",
    "    for j in range(5):\n",
    "        if ((i==0 and j==0) or (i==0 and j==4)):\n",
    "            print(' ', end = ' ')\n",
    "        elif (i==0 or i==3 or j==0 or j==4):\n",
    "            print('#', end = ' ')\n",
    "        else:\n",
    "            print(' ', end = ' ')\n",
    "    print()"
   ]
  },
  {
   "cell_type": "code",
   "execution_count": 2,
   "id": "e76cc542",
   "metadata": {},
   "outputs": [
    {
     "name": "stdout",
     "output_type": "stream",
     "text": [
      "# # # #   \n",
      "#       # \n",
      "#       # \n",
      "# # # #   \n",
      "#       # \n",
      "#       # \n",
      "# # # #   \n"
     ]
    }
   ],
   "source": [
    "for i in range(7):\n",
    "    for j in range(5):\n",
    "        if (i in {0,3,6} and j==4):\n",
    "            print(' ', end = ' ')\n",
    "        elif (j in {0,4} or i in {0,3,6}):\n",
    "            print('#', end = ' ')\n",
    "        else:\n",
    "            print(' ', end = ' ')\n",
    "    print()"
   ]
  },
  {
   "cell_type": "code",
   "execution_count": 9,
   "id": "a08b1eda",
   "metadata": {},
   "outputs": [
    {
     "name": "stdout",
     "output_type": "stream",
     "text": [
      "  # # # # \n",
      "#         \n",
      "#         \n",
      "#         \n",
      "#         \n",
      "#         \n",
      "  # # # # \n"
     ]
    }
   ],
   "source": [
    "for i in range(7):\n",
    "    for j in range(5):\n",
    "        if(i in {0,6} and j==0):\n",
    "            print(' ', end = ' ')\n",
    "        elif (i in {0,6} or j==0):\n",
    "            print('#', end = ' ')\n",
    "        else:\n",
    "            print(' ', end = ' ')\n",
    "    print() "
   ]
  },
  {
   "cell_type": "code",
   "execution_count": 10,
   "id": "9f01b4fc",
   "metadata": {},
   "outputs": [
    {
     "name": "stdout",
     "output_type": "stream",
     "text": [
      "# # # #   \n",
      "#       # \n",
      "#       # \n",
      "#       # \n",
      "#       # \n",
      "#       # \n",
      "# # # #   \n"
     ]
    }
   ],
   "source": [
    "for i in range(7):\n",
    "    for j in range(5):\n",
    "        if (i in {0,6} and j==4):\n",
    "            print(' ', end = ' ')\n",
    "        elif (j in {0,4} or i in {0,6}):\n",
    "            print('#', end = ' ')\n",
    "        else:\n",
    "            print(' ', end = ' ')\n",
    "    print()"
   ]
  },
  {
   "cell_type": "code",
   "execution_count": 11,
   "id": "97f40b91",
   "metadata": {},
   "outputs": [
    {
     "name": "stdout",
     "output_type": "stream",
     "text": [
      "# # # # # \n",
      "#         \n",
      "#         \n",
      "# # # #   \n",
      "#         \n",
      "#         \n",
      "# # # # # \n"
     ]
    }
   ],
   "source": [
    "for i in range(7):\n",
    "    for j in range(5):\n",
    "        if (i==3 and j==4):\n",
    "            print(' ', end = ' ')\n",
    "        elif (j==0 or i in {0,3,6}):\n",
    "            print('#', end = ' ')\n",
    "        else:\n",
    "            print(' ', end = ' ')\n",
    "    print()"
   ]
  },
  {
   "cell_type": "code",
   "execution_count": 13,
   "id": "c50d78e2",
   "metadata": {},
   "outputs": [
    {
     "name": "stdout",
     "output_type": "stream",
     "text": [
      "# # # # # \n",
      "#         \n",
      "#         \n",
      "# # # #   \n",
      "#         \n",
      "#         \n",
      "#         \n"
     ]
    }
   ],
   "source": [
    "for i in range(7):\n",
    "    for j in range(5):\n",
    "        if (i==3 and j==4):\n",
    "            print(' ', end = ' ')\n",
    "        elif (j==0 or i in {0,3}):\n",
    "            print('#', end = ' ')\n",
    "        else:\n",
    "            print(' ', end = ' ')\n",
    "    print()"
   ]
  },
  {
   "cell_type": "code",
   "execution_count": 16,
   "id": "c9210046",
   "metadata": {},
   "outputs": [
    {
     "name": "stdout",
     "output_type": "stream",
     "text": [
      "  # # # # \n",
      "#         \n",
      "#         \n",
      "#   # # # \n",
      "#       # \n",
      "#       # \n",
      "  # # # # \n"
     ]
    }
   ],
   "source": [
    "for i in range(7):\n",
    "    for j in range(5):\n",
    "        if(i in {0,6} and j==0):\n",
    "            print(' ', end = ' ')\n",
    "        elif ((i in {0,6} or j==0) or (i in {3,4,5} and j==4) or (j in {2,3} and i==3)):\n",
    "            print('#', end = ' ')\n",
    "        else:\n",
    "            print(' ', end = ' ')\n",
    "    print() "
   ]
  },
  {
   "cell_type": "code",
   "execution_count": 17,
   "id": "8700b216",
   "metadata": {},
   "outputs": [
    {
     "name": "stdout",
     "output_type": "stream",
     "text": [
      "#       # \n",
      "#       # \n",
      "#       # \n",
      "# # # # # \n",
      "#       # \n",
      "#       # \n",
      "#       # \n"
     ]
    }
   ],
   "source": [
    "for i in range(7):\n",
    "    for j in range(5):\n",
    "        if (i==3 or j==0 or j==4):\n",
    "            print('#', end = ' ')\n",
    "        else:\n",
    "            print(' ', end = ' ')\n",
    "    print()"
   ]
  },
  {
   "cell_type": "code",
   "execution_count": 18,
   "id": "f8e981f1",
   "metadata": {},
   "outputs": [
    {
     "name": "stdout",
     "output_type": "stream",
     "text": [
      "# # # # # \n",
      "    #     \n",
      "    #     \n",
      "    #     \n",
      "    #     \n",
      "# # # # # \n"
     ]
    }
   ],
   "source": [
    "for i in range(6):\n",
    "    for j in range(5):\n",
    "        if (i==0 or i==5 or j==2):\n",
    "            print('#', end = ' ')\n",
    "        else:\n",
    "            print(' ', end = ' ')\n",
    "    print()"
   ]
  },
  {
   "cell_type": "code",
   "execution_count": 33,
   "id": "448d5d22",
   "metadata": {},
   "outputs": [
    {
     "name": "stdout",
     "output_type": "stream",
     "text": [
      "  # # # # # # \n",
      "        #     \n",
      "        #     \n",
      "        #     \n",
      "#       #     \n",
      "#       #     \n",
      "  # # #       \n"
     ]
    }
   ],
   "source": [
    "for i in range(7):\n",
    "    for j in range(7):\n",
    "        if i==6 and j==4:\n",
    "            print(' ', end = ' ')\n",
    "        elif(j==4 or (i==0 and j in {1,2,3,5,6}) or (i==6 and j in {1,2,3}) or (j==0 and i in {4,5})):\n",
    "            print('#', end = ' ')\n",
    "        else:\n",
    "            print(' ', end = ' ')\n",
    "    print()"
   ]
  },
  {
   "cell_type": "code",
   "execution_count": 47,
   "id": "710ee2e9",
   "metadata": {},
   "outputs": [
    {
     "name": "stdout",
     "output_type": "stream",
     "text": [
      "#       # \n",
      "#     #   \n",
      "#   #     \n",
      "# #       \n",
      "#   #     \n",
      "#     #   \n",
      "#       # \n"
     ]
    }
   ],
   "source": [
    "for i in range(7):\n",
    "    for j in range(5):\n",
    "        if(j==0 or (i==3 and j==1) or (i in {0,6} and j==4) or(i in {1,5} and j==3) or (i in {2,4} and j==2)):\n",
    "            print('#', end = ' ')\n",
    "        else:\n",
    "            print(' ', end = ' ')\n",
    "    print()"
   ]
  },
  {
   "cell_type": "code",
   "execution_count": 41,
   "id": "bbab7b8b",
   "metadata": {},
   "outputs": [
    {
     "name": "stdout",
     "output_type": "stream",
     "text": [
      "#         \n",
      "#         \n",
      "#         \n",
      "#         \n",
      "#         \n",
      "#         \n",
      "# # # # # \n"
     ]
    }
   ],
   "source": [
    "for i in range(7):\n",
    "    for j in range(5):\n",
    "        if (j==0 or i==6):\n",
    "            print('#', end = ' ')\n",
    "        else:\n",
    "            print(' ', end = ' ')\n",
    "    print()"
   ]
  },
  {
   "cell_type": "code",
   "execution_count": 50,
   "id": "bd47f856",
   "metadata": {},
   "outputs": [
    {
     "name": "stdout",
     "output_type": "stream",
     "text": [
      "#           # \n",
      "# #       # # \n",
      "#   #   #   # \n",
      "#     #     # \n",
      "#           # \n",
      "#           # \n",
      "#           # \n"
     ]
    }
   ],
   "source": [
    "for i in range(7):\n",
    "    for j in range(7):\n",
    "        if (j in {0,6} or (i==1 and j in {1,5}) or (i==2 and j in {2,4}) or (i==3 and j==3)): \n",
    "            print('#', end = ' ')\n",
    "        else:\n",
    "            print(' ', end = ' ')\n",
    "    print()"
   ]
  },
  {
   "cell_type": "code",
   "execution_count": 51,
   "id": "9968e92b",
   "metadata": {},
   "outputs": [
    {
     "name": "stdout",
     "output_type": "stream",
     "text": [
      "#           # \n",
      "# #         # \n",
      "#   #       # \n",
      "#     #     # \n",
      "#       #   # \n",
      "#         # # \n",
      "#           # \n"
     ]
    }
   ],
   "source": [
    "for i in range(7):\n",
    "    for j in range(7):\n",
    "        if (j in {0,6}or(i==1 and j==1)or(i==2 and j==2)or(i==3 and j==3)or(i==4 and j==4)or(i==5 and j==5)): \n",
    "            print('#', end = ' ')\n",
    "        else:\n",
    "            print(' ', end = ' ')\n",
    "    print()"
   ]
  },
  {
   "cell_type": "code",
   "execution_count": 53,
   "id": "b1d4873e",
   "metadata": {},
   "outputs": [
    {
     "name": "stdout",
     "output_type": "stream",
     "text": [
      "  # # # #   \n",
      "#         # \n",
      "#         # \n",
      "#         # \n",
      "#         # \n",
      "#         # \n",
      "  # # # #   \n"
     ]
    }
   ],
   "source": [
    "for i in range(7):\n",
    "    for j in range(6):\n",
    "        if (i in {0,6} and j in {0,5}):\n",
    "            print(' ', end = ' ')\n",
    "        elif (i==0 or i==6 or j==0 or j==5):\n",
    "            print('#', end = ' ')\n",
    "        else:\n",
    "            print(' ', end = ' ')\n",
    "    print()"
   ]
  },
  {
   "cell_type": "code",
   "execution_count": 58,
   "id": "5f82742f",
   "metadata": {},
   "outputs": [
    {
     "name": "stdout",
     "output_type": "stream",
     "text": [
      "# # # #   \n",
      "#       # \n",
      "#       # \n",
      "# # # #   \n",
      "#         \n",
      "#         \n",
      "#         \n"
     ]
    }
   ],
   "source": [
    "for i in range(7):\n",
    "    for j in range(5):\n",
    "        if(i in {0,3} and j==4):\n",
    "            print(' ', end = ' ')\n",
    "        elif(j==0 or (i in {1,2} and j==4) or i in {0,3}):\n",
    "            print('#', end = ' ')\n",
    "        else:\n",
    "            print(' ', end = ' ')\n",
    "    print()"
   ]
  },
  {
   "cell_type": "code",
   "execution_count": 75,
   "id": "ad30be6b",
   "metadata": {},
   "outputs": [
    {
     "name": "stdout",
     "output_type": "stream",
     "text": [
      "  # # # #   \n",
      "#         # \n",
      "#         # \n",
      "#         # \n",
      "#   # #   # \n",
      "#       # # \n",
      "  # # # #   \n",
      "          # \n"
     ]
    }
   ],
   "source": [
    "for i in range(8):\n",
    "    for j in range(6):\n",
    "        if((i in {0,6} and j in {0,5}) or (i==7 and j==0)):\n",
    "            print(' ', end = ' ')\n",
    "        elif (i==0 or i==6 or j==0 or j==5 or(i==4 and j==2)or(i==7 and j==5)or(i==4 and j==3)or(i==5 and j==4)or(i==6 and j==5)):\n",
    "            print('#', end = ' ')\n",
    "        else:\n",
    "            print(' ', end = ' ')\n",
    "    print()"
   ]
  },
  {
   "cell_type": "code",
   "execution_count": 78,
   "id": "7374c327",
   "metadata": {},
   "outputs": [
    {
     "name": "stdout",
     "output_type": "stream",
     "text": [
      "# # # #   \n",
      "#       # \n",
      "#       # \n",
      "# # # #   \n",
      "#   #     \n",
      "#     #   \n",
      "#       # \n"
     ]
    }
   ],
   "source": [
    "for i in range(7):\n",
    "    for j in range(5):\n",
    "        if(i in {0,3} and j==4):\n",
    "            print(' ', end = ' ')\n",
    "        elif(j==0 or (i in {1,2} and j==4) or i in {0,3} or (i==4 and j==2) or (i==5 and j==3) or (i==6 and j==4)):\n",
    "            print('#', end = ' ')\n",
    "        else:\n",
    "            print(' ', end = ' ')\n",
    "    print()"
   ]
  },
  {
   "cell_type": "code",
   "execution_count": 79,
   "id": "910c2e73",
   "metadata": {},
   "outputs": [
    {
     "name": "stdout",
     "output_type": "stream",
     "text": [
      "  # # # # \n",
      "#         \n",
      "#         \n",
      "  # # #   \n",
      "        # \n",
      "        # \n",
      "# # # #   \n"
     ]
    }
   ],
   "source": [
    "for i in range(7):\n",
    "    for j in range(5):\n",
    "        if ((j==0 and i in {0,3}) or (i in {3,6} and j==4)):\n",
    "            print(' ', end = ' ')\n",
    "        elif (i in {0,3,6}) or ((i==4 and j==4) or (i==5 and j==4)) or ((i==1 and j==0) or (i==2 and j==0)):\n",
    "            print('#', end = ' ')\n",
    "        else:\n",
    "            print(' ', end = ' ')\n",
    "    print()"
   ]
  },
  {
   "cell_type": "code",
   "execution_count": 82,
   "id": "fb52f37a",
   "metadata": {},
   "outputs": [
    {
     "name": "stdout",
     "output_type": "stream",
     "text": [
      "# # # # # # # \n",
      "      #       \n",
      "      #       \n",
      "      #       \n",
      "      #       \n",
      "      #       \n",
      "      #       \n"
     ]
    }
   ],
   "source": [
    "for i in range(7):\n",
    "    for j in range(7):\n",
    "        if (i==0 or j==3):\n",
    "            print('#', end = ' ')\n",
    "        else:\n",
    "            print(' ', end = ' ')\n",
    "    print()"
   ]
  },
  {
   "cell_type": "code",
   "execution_count": 85,
   "id": "449a5b7d",
   "metadata": {},
   "outputs": [
    {
     "name": "stdout",
     "output_type": "stream",
     "text": [
      "#         # \n",
      "#         # \n",
      "#         # \n",
      "#         # \n",
      "#         # \n",
      "#         # \n",
      "  # # # #   \n"
     ]
    }
   ],
   "source": [
    "for i in range(7):\n",
    "    for j in range(6):\n",
    "        if (i==6 and j in {0,5}):\n",
    "            print(' ', end = ' ')\n",
    "        elif (i==6 or j==0 or j==5):\n",
    "            print('#', end = ' ')\n",
    "        else:\n",
    "            print(' ', end = ' ')\n",
    "    print()"
   ]
  },
  {
   "cell_type": "code",
   "execution_count": 99,
   "id": "ac7ae016",
   "metadata": {},
   "outputs": [
    {
     "name": "stdout",
     "output_type": "stream",
     "text": [
      "#       #\n",
      "#       #\n",
      "#       #\n",
      " #     # \n",
      "  #   #  \n",
      "   # #   \n",
      "    #    \n"
     ]
    }
   ],
   "source": [
    "for i in range(7):\n",
    "    for j in range(9):\n",
    "        if((i in {0,1,2} and j in {0,8})or(i==3 and j in {1,7})or(i==4 and j in {2,6})or(i==5 and j in {3,5})or(i==6 and j==4)):\n",
    "            print('#', end = '')\n",
    "        else:\n",
    "            print(' ', end = '')\n",
    "    print()"
   ]
  },
  {
   "cell_type": "code",
   "execution_count": 2,
   "id": "a4ffb0d3",
   "metadata": {},
   "outputs": [
    {
     "name": "stdout",
     "output_type": "stream",
     "text": [
      "#           # \n",
      "#           # \n",
      "#           # \n",
      "#     #     # \n",
      "#   #   #   # \n",
      "# #       # # \n",
      "#           # \n"
     ]
    }
   ],
   "source": [
    "for i in range(7):\n",
    "    for j in range(7):\n",
    "        if (j in {0,6} or (i==5 and j in {1,5}) or (i==4 and j in {2,4}) or (i==3 and j==3)): \n",
    "            print('#', end = ' ')\n",
    "        else:\n",
    "            print(' ', end = ' ')\n",
    "    print()"
   ]
  },
  {
   "cell_type": "code",
   "execution_count": 5,
   "id": "2e217959",
   "metadata": {},
   "outputs": [
    {
     "name": "stdout",
     "output_type": "stream",
     "text": [
      "#           # \n",
      "  #       #   \n",
      "    #   #     \n",
      "      #       \n",
      "    #   #     \n",
      "  #       #   \n",
      "#           # \n"
     ]
    }
   ],
   "source": [
    "for i in range(7):\n",
    "    for j in range(7):\n",
    "        if ((i in {0,6} and j in{0,6})or(i in {1,5} and j in {1,5}) or (i in {2,4} and j in {2,4}) or (i==3 and j==3) or ()): \n",
    "            print('#', end = ' ')\n",
    "        else:\n",
    "            print(' ', end = ' ')\n",
    "    print()"
   ]
  },
  {
   "cell_type": "code",
   "execution_count": 7,
   "id": "d94ea396",
   "metadata": {},
   "outputs": [
    {
     "name": "stdout",
     "output_type": "stream",
     "text": [
      "#           # \n",
      "  #       #   \n",
      "    #   #     \n",
      "      #       \n",
      "      #       \n",
      "      #       \n",
      "      #       \n"
     ]
    }
   ],
   "source": [
    "for i in range(7):\n",
    "    for j in range(7):\n",
    "        if ((i==0 and j in{0,6})or(i==1 and j in {1,5})or(i==2 and j in {2,4})or(i==3 and j==3)or(i in {4,5,6} and j==3)): \n",
    "            print('#', end = ' ')\n",
    "        else:\n",
    "            print(' ', end = ' ')\n",
    "    print()"
   ]
  },
  {
   "cell_type": "code",
   "execution_count": 9,
   "id": "b0839f65",
   "metadata": {},
   "outputs": [
    {
     "name": "stdout",
     "output_type": "stream",
     "text": [
      "# # # # # # # \n",
      "          #   \n",
      "        #     \n",
      "      #       \n",
      "    #         \n",
      "  #           \n",
      "# # # # # # # \n"
     ]
    }
   ],
   "source": [
    "for i in range(7):\n",
    "    for j in range(7):\n",
    "        if ((i in {0,6})or(i==1 and j==5)or(i==2 and j==4)or(i==3 and j==3)or(i==4 and j==2)or(i==5 and j==1)):\n",
    "            print('#', end = ' ')\n",
    "        else:\n",
    "            print(' ', end = ' ')\n",
    "    print()"
   ]
  },
  {
   "cell_type": "code",
   "execution_count": null,
   "id": "a9b80dbf",
   "metadata": {},
   "outputs": [],
   "source": []
  }
 ],
 "metadata": {
  "kernelspec": {
   "display_name": "Python 3 (ipykernel)",
   "language": "python",
   "name": "python3"
  },
  "language_info": {
   "codemirror_mode": {
    "name": "ipython",
    "version": 3
   },
   "file_extension": ".py",
   "mimetype": "text/x-python",
   "name": "python",
   "nbconvert_exporter": "python",
   "pygments_lexer": "ipython3",
   "version": "3.9.7"
  }
 },
 "nbformat": 4,
 "nbformat_minor": 5
}
