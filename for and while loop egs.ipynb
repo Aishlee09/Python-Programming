{
 "cells": [
  {
   "cell_type": "markdown",
   "id": "551943e4",
   "metadata": {},
   "source": [
    "__Question 1: Print First 10 natural numbers using while loop.__"
   ]
  },
  {
   "cell_type": "code",
   "execution_count": 1,
   "id": "bb041339",
   "metadata": {},
   "outputs": [
    {
     "name": "stdout",
     "output_type": "stream",
     "text": [
      "0 \n",
      "\n",
      "1 \n",
      "\n",
      "2 \n",
      "\n",
      "3 \n",
      "\n",
      "4 \n",
      "\n",
      "5 \n",
      "\n",
      "6 \n",
      "\n",
      "7 \n",
      "\n",
      "8 \n",
      "\n",
      "9 \n",
      "\n"
     ]
    }
   ],
   "source": [
    "for i in range(0,10):\n",
    "    print(i, '\\n')"
   ]
  },
  {
   "cell_type": "markdown",
   "id": "5215f623",
   "metadata": {},
   "source": [
    "__Question 2: Print the pattern.__"
   ]
  },
  {
   "cell_type": "code",
   "execution_count": 2,
   "id": "def84649",
   "metadata": {},
   "outputs": [
    {
     "name": "stdout",
     "output_type": "stream",
     "text": [
      "1 \n",
      "\n",
      "1 2 \n",
      "\n",
      "1 2 3 \n",
      "\n",
      "1 2 3 4 \n",
      "\n"
     ]
    }
   ],
   "source": [
    "for i in range(1,5):\n",
    "    for j in range(1, i+1):\n",
    "        print(j, end = ' ')\n",
    "    print('\\n')"
   ]
  },
  {
   "cell_type": "markdown",
   "id": "4f67d93b",
   "metadata": {},
   "source": [
    "__Question 3: Accept number from user and calculate the sum of all number between 1 and given number.__"
   ]
  },
  {
   "cell_type": "code",
   "execution_count": 3,
   "id": "9b7fa997",
   "metadata": {},
   "outputs": [
    {
     "name": "stdout",
     "output_type": "stream",
     "text": [
      "Enter the number: 12\n",
      "\n",
      "Sum of all numbers between 1 to 12: 78\n"
     ]
    }
   ],
   "source": [
    "n = int(input(\"Enter the number: \"))\n",
    "sum = 0\n",
    "for i in range(1, n+1):\n",
    "    sum += i\n",
    "print(f\"\\nSum of all numbers between 1 to {n}: {sum}\")"
   ]
  },
  {
   "cell_type": "markdown",
   "id": "fbcfaf81",
   "metadata": {},
   "source": [
    "__Question 4: Print multiplication table of given number.__"
   ]
  },
  {
   "cell_type": "code",
   "execution_count": 4,
   "id": "4a205d9a",
   "metadata": {
    "scrolled": true
   },
   "outputs": [
    {
     "name": "stdout",
     "output_type": "stream",
     "text": [
      "Enter the number: 8\n",
      "\n",
      " 8\n",
      "\n",
      " 16\n",
      "\n",
      " 24\n",
      "\n",
      " 32\n",
      "\n",
      " 40\n",
      "\n",
      " 48\n",
      "\n",
      " 56\n",
      "\n",
      " 64\n",
      "\n",
      " 72\n",
      "\n",
      " 80\n"
     ]
    }
   ],
   "source": [
    "n = int(input(\"Enter the number: \"))\n",
    "for i in range(1, 11):\n",
    "    print('\\n', i*n)"
   ]
  },
  {
   "cell_type": "markdown",
   "id": "c2623e73",
   "metadata": {},
   "source": [
    "__Question 5: Given a list iterate it and display numbers which are divisible by 5 and if you find number greater than 150 stop the loop iteration.__"
   ]
  },
  {
   "cell_type": "code",
   "execution_count": 5,
   "id": "39482e43",
   "metadata": {},
   "outputs": [
    {
     "name": "stdout",
     "output_type": "stream",
     "text": [
      "15 \n",
      "\n",
      "55 \n",
      "\n",
      "75 \n",
      "\n",
      "150 \n",
      "\n"
     ]
    }
   ],
   "source": [
    "list = [12, 15, 32, 42, 55, 75, 122, 132, 150, 180, 200]\n",
    "\n",
    "for i in list:\n",
    "    if i % 5 == 0 and i <= 150 : \n",
    "        print(i, '\\n')"
   ]
  },
  {
   "cell_type": "markdown",
   "id": "f14932c9",
   "metadata": {},
   "source": [
    "__Question 6: Given a number count the total number of digits in a number.__"
   ]
  },
  {
   "cell_type": "code",
   "execution_count": 6,
   "id": "0188144c",
   "metadata": {},
   "outputs": [
    {
     "name": "stdout",
     "output_type": "stream",
     "text": [
      "Enter the number: 42569438\n",
      "\n",
      "Total number of digits:  8\n"
     ]
    }
   ],
   "source": [
    "n = int(input(\"Enter the number: \"))\n",
    "count = 0\n",
    "if n == 0:\n",
    "    count = 1\n",
    "else:\n",
    "    while n!=0:\n",
    "        n //= 10\n",
    "        count += 1\n",
    "print(\"\\nTotal number of digits: \", count)"
   ]
  },
  {
   "cell_type": "markdown",
   "id": "d308a77c",
   "metadata": {},
   "source": [
    "__Question 7: Print the following pattern using for loop.__"
   ]
  },
  {
   "cell_type": "code",
   "execution_count": 7,
   "id": "64c6d28b",
   "metadata": {},
   "outputs": [
    {
     "name": "stdout",
     "output_type": "stream",
     "text": [
      "5 4 3 2 1 \n",
      "\n",
      "4 3 2 1 \n",
      "\n",
      "3 2 1 \n",
      "\n",
      "2 1 \n",
      "\n",
      "1 \n",
      "\n"
     ]
    }
   ],
   "source": [
    "for i in range(5, 0, -1):\n",
    "    for j in range(i, 0, -1):\n",
    "        print(j, end = ' ')\n",
    "    print('\\n')"
   ]
  },
  {
   "cell_type": "markdown",
   "id": "728f551c",
   "metadata": {},
   "source": [
    "__Question 8: Reverse the following list using for loop.__"
   ]
  },
  {
   "cell_type": "code",
   "execution_count": 8,
   "id": "9835a9f5",
   "metadata": {},
   "outputs": [
    {
     "name": "stdout",
     "output_type": "stream",
     "text": [
      "50 \n",
      "\n",
      "40 \n",
      "\n",
      "30 \n",
      "\n",
      "20 \n",
      "\n",
      "10 \n",
      "\n"
     ]
    }
   ],
   "source": [
    "l = [10, 20, 30, 40, 50]\n",
    "l1 = []\n",
    "for i in reversed(l):\n",
    "    l1.append(i)\n",
    "for i in l1:\n",
    "    print(i, '\\n')"
   ]
  },
  {
   "cell_type": "markdown",
   "id": "c330e73f",
   "metadata": {},
   "source": [
    "__Question 9: Display a message “Done” after successful execution of for loop.__"
   ]
  },
  {
   "cell_type": "code",
   "execution_count": 9,
   "id": "67e0d495",
   "metadata": {},
   "outputs": [
    {
     "name": "stdout",
     "output_type": "stream",
     "text": [
      "0 \n",
      "\n",
      "1 \n",
      "\n",
      "Done!\n"
     ]
    }
   ],
   "source": [
    "for i in range(0,2):\n",
    "    print(i, '\\n')\n",
    "print(\"Done!\")"
   ]
  },
  {
   "cell_type": "markdown",
   "id": "7e35d7b3",
   "metadata": {},
   "source": [
    "__Question 10: Display Fibonacci series up to 10 terms. \n",
    "Fibonacci sequence: Each number is the sum of the two preceding ones, starting from 0 and 1.__"
   ]
  },
  {
   "cell_type": "code",
   "execution_count": 10,
   "id": "7dd48608",
   "metadata": {},
   "outputs": [
    {
     "name": "stdout",
     "output_type": "stream",
     "text": [
      "Enter the number upto you wanna print the fibonacci series:\n",
      "13\n",
      "\n",
      "Fibonacci sequence: \n",
      "\n",
      "0  1  1  2  3  5  8  13  21  34  55  89  144  233  377  "
     ]
    }
   ],
   "source": [
    "n = int(input(\"Enter the number upto you wanna print the fibonacci series:\\n\"))\n",
    "a = 0\n",
    "b = 1\n",
    "print(\"\\nFibonacci sequence: \\n\")\n",
    "print(a, end = '  ')\n",
    "print(b, end = '  ')\n",
    "for i in range(n):\n",
    "    c = a + b\n",
    "    print(c, end = '  ')\n",
    "    a = b\n",
    "    b = c"
   ]
  },
  {
   "cell_type": "markdown",
   "id": "9c76382e",
   "metadata": {},
   "source": [
    "__Question 11: Write a loop to find the factorial of any number.__"
   ]
  },
  {
   "cell_type": "code",
   "execution_count": 11,
   "id": "d150df61",
   "metadata": {},
   "outputs": [
    {
     "name": "stdout",
     "output_type": "stream",
     "text": [
      "Enter the number: 9\n",
      "362880\n"
     ]
    }
   ],
   "source": [
    "n = int(input(\"Enter the number: \"))\n",
    "fact = 1\n",
    "for i in range(1, n+1):\n",
    "    fact *= i\n",
    "print(fact)"
   ]
  },
  {
   "cell_type": "markdown",
   "id": "f2b8646a",
   "metadata": {},
   "source": [
    "__Question 12: Python program to display all the prime numbers within a range.__"
   ]
  },
  {
   "cell_type": "code",
   "execution_count": 12,
   "id": "c69e2b77",
   "metadata": {},
   "outputs": [
    {
     "name": "stdout",
     "output_type": "stream",
     "text": [
      "Enter the lower number: 25\n",
      "Enter the upper number: 60\n",
      "Prime numbers between 25 and 60 are: \n",
      "\n",
      " 29\n",
      "\n",
      " 31\n",
      "\n",
      " 37\n",
      "\n",
      " 41\n",
      "\n",
      " 43\n",
      "\n",
      " 47\n",
      "\n",
      " 53\n",
      "\n",
      " 59\n"
     ]
    }
   ],
   "source": [
    "start = int(input(\"Enter the lower number: \"))\n",
    "end = int(input(\"Enter the upper number: \"))\n",
    "print(f\"Prime numbers between {start} and {end} are: \")\n",
    "\n",
    "for i in range(start, end + 1):\n",
    "    if i > 1:\n",
    "        for j in range(2, i):\n",
    "            if (i % j) == 0:\n",
    "                break\n",
    "        else:\n",
    "            print('\\n',i)"
   ]
  },
  {
   "cell_type": "markdown",
   "id": "87f57837",
   "metadata": {},
   "source": [
    "## ------------------------------------X------------------------------------"
   ]
  }
 ],
 "metadata": {
  "kernelspec": {
   "display_name": "Python 3 (ipykernel)",
   "language": "python",
   "name": "python3"
  },
  "language_info": {
   "codemirror_mode": {
    "name": "ipython",
    "version": 3
   },
   "file_extension": ".py",
   "mimetype": "text/x-python",
   "name": "python",
   "nbconvert_exporter": "python",
   "pygments_lexer": "ipython3",
   "version": "3.9.7"
  }
 },
 "nbformat": 4,
 "nbformat_minor": 5
}
