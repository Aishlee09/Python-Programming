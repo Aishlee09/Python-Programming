{
 "cells": [
  {
   "cell_type": "code",
   "execution_count": 1,
   "id": "c0d5e524",
   "metadata": {},
   "outputs": [
    {
     "name": "stdout",
     "output_type": "stream",
     "text": [
      "Event: Exam Result \n",
      "Date: 2023-11-30 \n",
      "Time: 07:55 pm\n",
      "\n",
      "Event: B'day Event \n",
      "Date: 2023-12-06 \n",
      "Time: 09:00 pm\n",
      "\n",
      "Current GPA: 4.0\n"
     ]
    }
   ],
   "source": [
    "from datetime import datetime, timedelta\n",
    "\n",
    "# Function to add an event\n",
    "def add_event(events, name, date, time):\n",
    "    # Add an event to the events dictionary\n",
    "    events[name] = {\"Date\": date, \"Time\": time}\n",
    "\n",
    "\n",
    "# Function to calculate GPA\n",
    "def calculate_gpa(courses):\n",
    "    # Calculate GPA based on grades and credits in the courses dictionary\n",
    "    total_credits = 0\n",
    "    total_sum = 0\n",
    "    \n",
    "    for i in courses.values():\n",
    "        grade = i[\"Grade\"]\n",
    "        credits = i[\"Credits\"]\n",
    "    \n",
    "    if grade.upper() == 'A':\n",
    "        grade = 4.0\n",
    "    elif grade == 'B':\n",
    "        grade = 3.0\n",
    "    elif grade == 'C':\n",
    "        grade = 2.0\n",
    "    elif grade == 'D':\n",
    "        grade = 1.0\n",
    "    else:\n",
    "        grade = 0\n",
    "        \n",
    "    total_sum = grade * credits\n",
    "    total_credits += credits\n",
    "    \n",
    "    if total_sum == 0:\n",
    "        return 0\n",
    "    else:\n",
    "        return total_sum / total_credits\n",
    "\n",
    "# Function to add a course\n",
    "def add_course(courses, course_name, grade, credits):\n",
    "    # Add a course to the courses dictionary\n",
    "    courses[course_name] = {\"Grade\": grade, \"Credits\": credits}\n",
    "\n",
    "\n",
    "# Function to view scheduled events\n",
    "def view_events(events):\n",
    "    # Print events from the events dictionary\n",
    "    for i, j in events.items():\n",
    "        print(f\"Event: {i} \\nDate: {j['Date']} \\nTime: {j['Time']}\\n\")\n",
    "\n",
    "# Main function\n",
    "def main():\n",
    "    events = {}  # Dictionary to store event details\n",
    "    courses = {}  # Dictionary to store course details\n",
    "\n",
    "    # Add events and courses - Example usage\n",
    "    add_event(events, \"Exam Result\", \"2023-11-30\", \"07:55 pm\")\n",
    "    add_course(courses, \"AIMT\", \"A\", 4)\n",
    "    add_event(events, \"B'day Event\", \"2023-12-06\", \"09:00 pm\")\n",
    "\n",
    "    # Display events and calculate GPA\n",
    "\n",
    "    view_events(events)\n",
    "    print(\"Current GPA:\", calculate_gpa(courses))\n",
    "    \n",
    "if __name__ == \"__main__\":\n",
    "    main()"
   ]
  },
  {
   "cell_type": "code",
   "execution_count": null,
   "id": "c989a6b2",
   "metadata": {},
   "outputs": [],
   "source": []
  }
 ],
 "metadata": {
  "kernelspec": {
   "display_name": "Python 3 (ipykernel)",
   "language": "python",
   "name": "python3"
  },
  "language_info": {
   "codemirror_mode": {
    "name": "ipython",
    "version": 3
   },
   "file_extension": ".py",
   "mimetype": "text/x-python",
   "name": "python",
   "nbconvert_exporter": "python",
   "pygments_lexer": "ipython3",
   "version": "3.9.7"
  }
 },
 "nbformat": 4,
 "nbformat_minor": 5
}
