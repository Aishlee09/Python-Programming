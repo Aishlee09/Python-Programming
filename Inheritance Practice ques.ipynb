{
 "cells": [
  {
   "cell_type": "code",
   "execution_count": 1,
   "id": "59e453bc",
   "metadata": {},
   "outputs": [
    {
     "name": "stdout",
     "output_type": "stream",
     "text": [
      "Kevin is 45\n",
      "---------------------\n",
      "Employee \n",
      "Happy birthday you were: 21\n",
      "You are now  22\n",
      "Your Pay: 400.0\n",
      "---------------------\n",
      "SalesPerson\n",
      "Happy birthday you were: 21\n",
      "You are now  22\n",
      "Your Pay: 400.0\n",
      "Bonus: 15000.0\n"
     ]
    }
   ],
   "source": [
    "class Person:\n",
    "    def __init__(self, name, age):\n",
    "        self.name = name\n",
    "        self.age = age\n",
    "    def print(self):\n",
    "        print(self.name, 'is', self.age)\n",
    "  \n",
    "class Employee(Person):\n",
    "    def __init__(self, name, age, id_e):\n",
    "        self.name = name\n",
    "        self.age = age\n",
    "        self.id_e = id_e\n",
    "    def birthday(self):\n",
    "        return f'Employee \\nHappy birthday you were: {self.age}'\n",
    "    def calculatePay(self):\n",
    "        pay = 397.5\n",
    "        if self.age<21:\n",
    "            pay = hours*7.5\n",
    "        else:\n",
    "            pay = pay + 2.50\n",
    "        return pay\n",
    "    def print(self):\n",
    "        a = self.age+1\n",
    "        print('---------------------')\n",
    "        print(Employee.birthday(self))\n",
    "        print('You are now ', a)\n",
    "        print('Your Pay:', self.calculatePay())\n",
    "        \n",
    "class SalesPerson(Employee):\n",
    "    def __init__(self, name, age, id_e, region, sales):\n",
    "        self.name = name\n",
    "        self.age = age\n",
    "        self.id_e = id_e\n",
    "        self.region = region\n",
    "        self.sales = sales\n",
    "    def birthday(self):\n",
    "        return f'SalesPerson\\nHappy birthday you were: {self.age}'\n",
    "    def bonus(self):\n",
    "        bonus = self.sales*0.5\n",
    "        return bonus\n",
    "    def print(self):\n",
    "        a = self.age+1\n",
    "        print('---------------------')\n",
    "        print(SalesPerson.birthday(self))\n",
    "        print('You are now ', a)\n",
    "        print('Your Pay:', self.calculatePay())\n",
    "        print(\"Bonus:\", self.bonus())\n",
    "    \n",
    "obj1 = Person('Kevin', 45)\n",
    "obj2 = Employee('Den', 21, 7468)\n",
    "obj3 = SalesPerson('Phoebe', 21, 4712, 'AUS', 30000.0)\n",
    "obj1.print()\n",
    "obj2.print()\n",
    "obj3.print()\n"
   ]
  },
  {
   "cell_type": "code",
   "execution_count": null,
   "id": "68c1537d",
   "metadata": {},
   "outputs": [],
   "source": []
  }
 ],
 "metadata": {
  "kernelspec": {
   "display_name": "Python 3 (ipykernel)",
   "language": "python",
   "name": "python3"
  },
  "language_info": {
   "codemirror_mode": {
    "name": "ipython",
    "version": 3
   },
   "file_extension": ".py",
   "mimetype": "text/x-python",
   "name": "python",
   "nbconvert_exporter": "python",
   "pygments_lexer": "ipython3",
   "version": "3.9.7"
  }
 },
 "nbformat": 4,
 "nbformat_minor": 5
}
