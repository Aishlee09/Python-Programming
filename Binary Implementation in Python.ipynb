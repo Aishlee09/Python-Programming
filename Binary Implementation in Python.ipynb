{
 "cells": [
  {
   "cell_type": "code",
   "execution_count": 1,
   "id": "276e4851",
   "metadata": {},
   "outputs": [
    {
     "name": "stdout",
     "output_type": "stream",
     "text": [
      "Enter the number of elements in the list: 8\n",
      "Enter the elements: \n",
      "23\n",
      "56\n",
      "99\n",
      "35\n",
      "66\n",
      "82\n",
      "20\n",
      "11\n",
      "\n",
      "The given list is: \n",
      " [11, 20, 23, 35, 56, 66, 82, 99]\n",
      "\n",
      "Enter the element you want to know whether it is present in the list or not: \n",
      "56\n",
      "56 is present in the list at index 4.\n"
     ]
    }
   ],
   "source": [
    "def binary_search(l, num):\n",
    "    # Start index of the list\n",
    "    minimum = 0  \n",
    "    # End index of the list\n",
    "    maximum = len(l) - 1  \n",
    "    found = False\n",
    "    # Default location if element not found\n",
    "    location = -1\n",
    "    \n",
    "    while minimum <= maximum:\n",
    "        # Calculate the guess inside the loop\n",
    "        guess = (minimum + maximum) // 2 \n",
    "        \n",
    "        if l[guess] == num:\n",
    "            found = True\n",
    "            location = guess\n",
    "            break\n",
    "        elif l[guess] < num:\n",
    "            minimum = guess + 1\n",
    "        else:\n",
    "            maximum = guess - 1\n",
    "            \n",
    "    return found, location\n",
    "\n",
    "l = []\n",
    "n = int(input(\"Enter the number of elements in the list: \"))\n",
    "print(\"Enter the elements: \")\n",
    "for i in range(n):\n",
    "    element = int(input())\n",
    "    l.append(element)\n",
    "\n",
    "# Sorting the list for binary search\n",
    "l.sort()\n",
    "\n",
    "print(\"\\nThe given list is: \\n\", l)\n",
    "\n",
    "num = int(input(\"\\nEnter the element you want to know whether it is present in the list or not: \\n\"))\n",
    "result, location = binary_search(l, num)\n",
    "if result:\n",
    "    print(f\"{num} is present in the list at index {location}.\")\n",
    "else:\n",
    "    print(f\"{num} is not present in the list.\")"
   ]
  },
  {
   "cell_type": "code",
   "execution_count": null,
   "id": "43c21663",
   "metadata": {},
   "outputs": [],
   "source": []
  }
 ],
 "metadata": {
  "kernelspec": {
   "display_name": "Python 3 (ipykernel)",
   "language": "python",
   "name": "python3"
  },
  "language_info": {
   "codemirror_mode": {
    "name": "ipython",
    "version": 3
   },
   "file_extension": ".py",
   "mimetype": "text/x-python",
   "name": "python",
   "nbconvert_exporter": "python",
   "pygments_lexer": "ipython3",
   "version": "3.9.7"
  }
 },
 "nbformat": 4,
 "nbformat_minor": 5
}
