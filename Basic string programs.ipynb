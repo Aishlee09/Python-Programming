{
 "cells": [
  {
   "cell_type": "code",
   "execution_count": 2,
   "id": "91fc500e",
   "metadata": {},
   "outputs": [
    {
     "name": "stdout",
     "output_type": "stream",
     "text": [
      "Enter a string: python\n",
      "Enter the character to get replaced: a\n",
      "Character is not present in the string.\n",
      "Enter the character to get replaced: p\n",
      "Enter to new character with whom you want to replace: P\n",
      "\n",
      "The modified string is: Python\n",
      "\n",
      "Do you want to repeat the program ? (Yes / No): yes\n",
      "Enter a string: python programming\n",
      "Enter the character to get replaced: p\n",
      "Enter to new character with whom you want to replace: P\n",
      "\n",
      "The modified string is: Python Programming\n",
      "\n",
      "Do you want to repeat the program ? (Yes / No): no\n"
     ]
    }
   ],
   "source": [
    "# To replace the character of string with a new character\n",
    "\n",
    "while True:\n",
    "    s = input(\"Enter a string: \")\n",
    "    char = input(\"Enter the character to get replaced: \")\n",
    "    if char not in s:\n",
    "        print(\"Character is not present in the string.\")\n",
    "        char = input(\"Enter the character to get replaced: \")\n",
    "\n",
    "    new_char = input(\"Enter to new character with whom you want to replace: \")\n",
    "    \n",
    "    for i in range(len(s)):\n",
    "        if (s[i] == char):\n",
    "            s = s[:i] + new_char + s[i+1:]\n",
    "    print(\"\\nThe modified string is:\", s)\n",
    "        \n",
    "    repeat = input(\"\\nDo you want to repeat the program ? (Yes / No): \").lower()\n",
    "    if repeat == 'yes':\n",
    "        continue\n",
    "    else:\n",
    "        break"
   ]
  },
  {
   "cell_type": "code",
   "execution_count": 3,
   "id": "79f92953",
   "metadata": {},
   "outputs": [
    {
     "name": "stdout",
     "output_type": "stream",
     "text": [
      " Enter a string:\n",
      " welcome to python\n",
      "\n",
      " The reversed string is: \n",
      " nohtyp ot emoclew\n"
     ]
    }
   ],
   "source": [
    "# To reverse the given string\n",
    "\n",
    "s1 = input(\" Enter a string:\\n \")\n",
    "s2 = s1.split()\n",
    "s2 = list(reversed(s1))\n",
    "print(\"\\n The reversed string is: \")\n",
    "print(\"\",\"\".join(s2))"
   ]
  },
  {
   "cell_type": "code",
   "execution_count": 4,
   "id": "b065432f",
   "metadata": {},
   "outputs": [
    {
     "name": "stdout",
     "output_type": "stream",
     "text": [
      " Enter a string:\n",
      " Welcome to Python\n",
      " Enter a sub string:\n",
      " to\n",
      "\n",
      " Substring is found in the string.\n"
     ]
    }
   ],
   "source": [
    "# To check the substring is present in the string or not\n",
    "\n",
    "s1 = input(\" Enter a string:\\n \")\n",
    "s2 = input(\" Enter a sub string:\\n \")\n",
    "if (s1.find(s2) == -1):\n",
    "    print(\"\\n Substring isn't found in the string.\")\n",
    "else:\n",
    "    print(\"\\n Substring is found in the string.\")"
   ]
  },
  {
   "cell_type": "code",
   "execution_count": 5,
   "id": "6dd8a623",
   "metadata": {},
   "outputs": [
    {
     "name": "stdout",
     "output_type": "stream",
     "text": [
      "\n",
      " Enter a string: 976 python 2461 \n",
      " The digits are: \n",
      "  9\n",
      "  7\n",
      "  6\n",
      "  2\n",
      "  4\n",
      "  6\n",
      "  1\n",
      "\n"
     ]
    }
   ],
   "source": [
    "# To extract the digits from a string\n",
    "\n",
    "s = input(\"\\n Enter a string: \")\n",
    "digit = []\n",
    "for i in s:\n",
    "    if i.isdigit():\n",
    "        digit.append(i)\n",
    "print(\" The digits are: \")\n",
    "for i in digit:\n",
    "    print(\" \", i)\n",
    "print()"
   ]
  },
  {
   "cell_type": "code",
   "execution_count": null,
   "id": "3c7f24a8",
   "metadata": {},
   "outputs": [],
   "source": []
  }
 ],
 "metadata": {
  "kernelspec": {
   "display_name": "Python 3 (ipykernel)",
   "language": "python",
   "name": "python3"
  },
  "language_info": {
   "codemirror_mode": {
    "name": "ipython",
    "version": 3
   },
   "file_extension": ".py",
   "mimetype": "text/x-python",
   "name": "python",
   "nbconvert_exporter": "python",
   "pygments_lexer": "ipython3",
   "version": "3.9.7"
  }
 },
 "nbformat": 4,
 "nbformat_minor": 5
}
