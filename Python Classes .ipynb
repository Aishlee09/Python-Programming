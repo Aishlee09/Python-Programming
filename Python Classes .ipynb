{
 "cells": [
  {
   "cell_type": "code",
   "execution_count": 2,
   "id": "1598b111",
   "metadata": {},
   "outputs": [
    {
     "name": "stdout",
     "output_type": "stream",
     "text": [
      "Restaurant Name: Sample Restaurant\n",
      "Cuisine Type: Italian\n",
      "Restaurant Name: Sample Restaurant\n",
      "Cuisine Type: Italian\n",
      "Sample Restaurant is now open!\n"
     ]
    }
   ],
   "source": [
    "# Question 1\n",
    "class Restaurant:\n",
    "    def __init__(self, restaurant_name, cuisine_type):\n",
    "        self.restaurant_name = restaurant_name\n",
    "        self.cuisine_type = cuisine_type\n",
    "\n",
    "    def describe_restaurant(self):\n",
    "        print(f\"Restaurant Name: {self.restaurant_name}\")\n",
    "        print(f\"Cuisine Type: {self.cuisine_type}\")\n",
    "\n",
    "    def open_restaurant(self):\n",
    "        print(f\"{self.restaurant_name} is now open!\")\n",
    "\n",
    "# Creating an instance of the Restaurant class\n",
    "restaurant = Restaurant(\"Sample Restaurant\", \"Italian\")\n",
    "\n",
    "# Printing the attributes individually\n",
    "print(f\"Restaurant Name: {restaurant.restaurant_name}\")\n",
    "print(f\"Cuisine Type: {restaurant.cuisine_type}\")\n",
    "\n",
    "# Calling both methods\n",
    "restaurant.describe_restaurant()\n",
    "restaurant.open_restaurant()"
   ]
  },
  {
   "cell_type": "code",
   "execution_count": 3,
   "id": "167ac908",
   "metadata": {},
   "outputs": [
    {
     "name": "stdout",
     "output_type": "stream",
     "text": [
      "Restaurant 1:\n",
      "Restaurant Name: Italian Delight\n",
      "Cuisine Type: Italian\n",
      "\n",
      "Restaurant 2:\n",
      "Restaurant Name: Spicy Bites\n",
      "Cuisine Type: Mexican\n",
      "\n",
      "Restaurant 3:\n",
      "Restaurant Name: Sushi Haven\n",
      "Cuisine Type: Japanese\n"
     ]
    }
   ],
   "source": [
    "# Question 2\n",
    "# Creating three instances of the Restaurant class\n",
    "restaurant1 = Restaurant(\"Italian Delight\", \"Italian\")\n",
    "restaurant2 = Restaurant(\"Spicy Bites\", \"Mexican\")\n",
    "restaurant3 = Restaurant(\"Sushi Haven\", \"Japanese\")\n",
    "\n",
    "# Calling describe_restaurant() for each instance\n",
    "print(\"Restaurant 1:\")\n",
    "restaurant1.describe_restaurant()\n",
    "\n",
    "print(\"\\nRestaurant 2:\")\n",
    "restaurant2.describe_restaurant()\n",
    "\n",
    "print(\"\\nRestaurant 3:\")\n",
    "restaurant3.describe_restaurant()\n"
   ]
  },
  {
   "cell_type": "code",
   "execution_count": 4,
   "id": "d4f896b0",
   "metadata": {},
   "outputs": [
    {
     "name": "stdout",
     "output_type": "stream",
     "text": [
      "User Information for John Doe:\n",
      "Age: 25\n",
      "Email: john.doe@email.com\n",
      "Location: New York\n",
      "Hello, John! Welcome back.\n",
      "\n",
      "\n",
      "User Information for Alice Smith:\n",
      "Age: 30\n",
      "Email: alice.smith@email.com\n",
      "Location: London\n",
      "Hello, Alice! Welcome back.\n",
      "\n",
      "\n",
      "User Information for Bob Johnson:\n",
      "Age: 22\n",
      "Email: bob.johnson@email.com\n",
      "Location: Los Angeles\n",
      "Hello, Bob! Welcome back.\n"
     ]
    }
   ],
   "source": [
    "# Question 3\n",
    "class User:\n",
    "    def __init__(self, first_name, last_name, age, email, location):\n",
    "        self.first_name = first_name\n",
    "        self.last_name = last_name\n",
    "        self.age = age\n",
    "        self.email = email\n",
    "        self.location = location\n",
    "\n",
    "    def describe_user(self):\n",
    "        print(f\"User Information for {self.first_name} {self.last_name}:\")\n",
    "        print(f\"Age: {self.age}\")\n",
    "        print(f\"Email: {self.email}\")\n",
    "        print(f\"Location: {self.location}\")\n",
    "\n",
    "    def greet_user(self):\n",
    "        print(f\"Hello, {self.first_name}! Welcome back.\")\n",
    "\n",
    "# Creating instances of the User class\n",
    "user1 = User(\"John\", \"Doe\", 25, \"john.doe@email.com\", \"New York\")\n",
    "user2 = User(\"Alice\", \"Smith\", 30, \"alice.smith@email.com\", \"London\")\n",
    "user3 = User(\"Bob\", \"Johnson\", 22, \"bob.johnson@email.com\", \"Los Angeles\")\n",
    "\n",
    "# Calling methods for each user\n",
    "user1.describe_user()\n",
    "user1.greet_user()\n",
    "\n",
    "print(\"\\n\")\n",
    "\n",
    "user2.describe_user()\n",
    "user2.greet_user()\n",
    "\n",
    "print(\"\\n\")\n",
    "\n",
    "user3.describe_user()\n",
    "user3.greet_user()"
   ]
  },
  {
   "cell_type": "code",
   "execution_count": 5,
   "id": "a5a9af78",
   "metadata": {},
   "outputs": [
    {
     "name": "stdout",
     "output_type": "stream",
     "text": [
      "Number of Customers Served: 0\n",
      "Updated Number of Customers Served: 50\n",
      "Updated Number of Customers Served: 100\n",
      "Incremented Number of Customers Served: 120\n"
     ]
    }
   ],
   "source": [
    "# Question 4\n",
    "class Restaurant:\n",
    "    def __init__(self, restaurant_name, cuisine_type):\n",
    "        self.restaurant_name = restaurant_name\n",
    "        self.cuisine_type = cuisine_type\n",
    "        self.number_served = 0  # Default value\n",
    "\n",
    "    def describe_restaurant(self):\n",
    "        print(f\"Restaurant Name: {self.restaurant_name}\")\n",
    "        print(f\"Cuisine Type: {self.cuisine_type}\")\n",
    "        print(f\"Number of Customers Served: {self.number_served}\")\n",
    "\n",
    "    def open_restaurant(self):\n",
    "        print(f\"{self.restaurant_name} is now open!\")\n",
    "\n",
    "    def set_number_served(self, number):\n",
    "        self.number_served = number\n",
    "\n",
    "    def increment_number_served(self, increment):\n",
    "        self.number_served += increment\n",
    "\n",
    "# Creating an instance of the Restaurant class\n",
    "restaurant = Restaurant(\"Sample Restaurant\", \"Italian\")\n",
    "\n",
    "# Printing the number of customers served (default value)\n",
    "print(f\"Number of Customers Served: {restaurant.number_served}\")\n",
    "\n",
    "# Changing the number of customers served and printing it again\n",
    "restaurant.number_served = 50\n",
    "print(f\"Updated Number of Customers Served: {restaurant.number_served}\")\n",
    "\n",
    "# Using the set_number_served() method\n",
    "restaurant.set_number_served(100)\n",
    "print(f\"Updated Number of Customers Served: {restaurant.number_served}\")\n",
    "\n",
    "# Using the increment_number_served() method\n",
    "restaurant.increment_number_served(20)\n",
    "print(f\"Incremented Number of Customers Served: {restaurant.number_served}\")"
   ]
  },
  {
   "cell_type": "code",
   "execution_count": 6,
   "id": "50f2e494",
   "metadata": {},
   "outputs": [
    {
     "name": "stdout",
     "output_type": "stream",
     "text": [
      "Login Attempts: 3\n",
      "Login Attempts (after reset): 0\n"
     ]
    }
   ],
   "source": [
    "# Question 5\n",
    "class User:\n",
    "    def __init__(self, first_name, last_name, age, email, location):\n",
    "        self.first_name = first_name\n",
    "        self.last_name = last_name\n",
    "        self.age = age\n",
    "        self.email = email\n",
    "        self.location = location\n",
    "        self.login_attempts = 0  # New attribute\n",
    "\n",
    "    def describe_user(self):\n",
    "        print(f\"User Information for {self.first_name} {self.last_name}:\")\n",
    "        print(f\"Age: {self.age}\")\n",
    "        print(f\"Email: {self.email}\")\n",
    "        print(f\"Location: {self.location}\")\n",
    "        print(f\"Login Attempts: {self.login_attempts}\")\n",
    "\n",
    "    def greet_user(self):\n",
    "        print(f\"Hello, {self.first_name}! Welcome back.\")\n",
    "\n",
    "    def increment_login_attempts(self):\n",
    "        self.login_attempts += 1\n",
    "\n",
    "    def reset_login_attempts(self):\n",
    "        self.login_attempts = 0\n",
    "\n",
    "# Creating an instance of the User class\n",
    "user = User(\"John\", \"Doe\", 25, \"john.doe@email.com\", \"New York\")\n",
    "\n",
    "# Calling increment_login_attempts() several times\n",
    "user.increment_login_attempts()\n",
    "user.increment_login_attempts()\n",
    "user.increment_login_attempts()\n",
    "\n",
    "# Printing the value of login_attempts\n",
    "print(f\"Login Attempts: {user.login_attempts}\")\n",
    "\n",
    "# Calling reset_login_attempts()\n",
    "user.reset_login_attempts()\n",
    "\n",
    "# Printing login_attempts to make sure it was reset to 0\n",
    "print(f\"Login Attempts (after reset): {user.login_attempts}\")\n"
   ]
  },
  {
   "cell_type": "code",
   "execution_count": null,
   "id": "0863740e",
   "metadata": {},
   "outputs": [],
   "source": []
  },
  {
   "cell_type": "code",
   "execution_count": null,
   "id": "ec6f6041",
   "metadata": {},
   "outputs": [],
   "source": []
  }
 ],
 "metadata": {
  "kernelspec": {
   "display_name": "Python 3 (ipykernel)",
   "language": "python",
   "name": "python3"
  },
  "language_info": {
   "codemirror_mode": {
    "name": "ipython",
    "version": 3
   },
   "file_extension": ".py",
   "mimetype": "text/x-python",
   "name": "python",
   "nbconvert_exporter": "python",
   "pygments_lexer": "ipython3",
   "version": "3.9.7"
  }
 },
 "nbformat": 4,
 "nbformat_minor": 5
}
