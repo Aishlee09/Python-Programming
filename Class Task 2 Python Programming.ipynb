{
 "cells": [
  {
   "cell_type": "markdown",
   "id": "34801787",
   "metadata": {},
   "source": [
    "### 2.1  Assign a message to a variable, and then print that message"
   ]
  },
  {
   "cell_type": "code",
   "execution_count": 28,
   "id": "d5768c8f",
   "metadata": {},
   "outputs": [
    {
     "data": {
      "text/plain": [
       "'My name is aishlee:)'"
      ]
     },
     "execution_count": 28,
     "metadata": {},
     "output_type": "execute_result"
    }
   ],
   "source": [
    "s = \"My name is aishlee:)\"\n",
    "s"
   ]
  },
  {
   "cell_type": "markdown",
   "id": "8e3f2703",
   "metadata": {},
   "source": [
    "### 2.2  Assign a message to a variable, and print that message. Then change the value of the variable to a new message, and print the new message"
   ]
  },
  {
   "cell_type": "code",
   "execution_count": 29,
   "id": "bd9f5cf6",
   "metadata": {},
   "outputs": [
    {
     "name": "stdout",
     "output_type": "stream",
     "text": [
      "I'm yogita\n",
      "\n",
      "The new value of a variable is:  25\n"
     ]
    }
   ],
   "source": [
    "s1 = \"I'm aishlee\"\n",
    "print(s1)\n",
    "\n",
    "# Assigning new value of the variable\n",
    "s1 = 25\n",
    "print(\"\\nThe new value of a variable is: \", s1)"
   ]
  },
  {
   "cell_type": "markdown",
   "id": "b2effa21",
   "metadata": {},
   "source": [
    "### 2.3  Use a variable to represent a person’s name, and print a message to that person. Your message should be simple."
   ]
  },
  {
   "cell_type": "code",
   "execution_count": 30,
   "id": "be6a459a",
   "metadata": {},
   "outputs": [
    {
     "name": "stdout",
     "output_type": "stream",
     "text": [
      "Hello vikas, would you like to learn some Python today?\n"
     ]
    }
   ],
   "source": [
    "n = \"vikas\"\n",
    "\n",
    "print(f\"Hello {n}, would you like to learn some Python today?\")"
   ]
  },
  {
   "cell_type": "markdown",
   "id": "d965a23e",
   "metadata": {},
   "source": [
    "### 2.4  Use a variable to represent a person’s name, and then print that person’s name in lowercase, uppercase, and title case."
   ]
  },
  {
   "cell_type": "code",
   "execution_count": 31,
   "id": "40c8f5b0",
   "metadata": {},
   "outputs": [
    {
     "name": "stdout",
     "output_type": "stream",
     "text": [
      "\n",
      "Name in lowercase is: AISHLEE\n",
      "\n",
      "Name in uppercase is: Aishlee\n",
      "\n",
      "Name in titlecase is: Aishlee\n"
     ]
    }
   ],
   "source": [
    "name = \"aishlee\"\n",
    "\n",
    "print(\"\\nName in lowercase is:\", name.upper())\n",
    "\n",
    "print(\"\\nName in uppercase is:\", name.lower())\n",
    "\n",
    "print(\"\\nName in titlecase is:\", name.title())"
   ]
  },
  {
   "cell_type": "markdown",
   "id": "bb2a95f2",
   "metadata": {},
   "source": [
    "### 2.5 Find a quote from a famous person you admire. Print the quote and the name of its author."
   ]
  },
  {
   "cell_type": "code",
   "execution_count": 32,
   "id": "62493a35",
   "metadata": {},
   "outputs": [
    {
     "name": "stdout",
     "output_type": "stream",
     "text": [
      "Vijay once said,\" You must be the change you wish to see in the world.\"\n"
     ]
    }
   ],
   "source": [
    "person_name = \"Vijay\"\n",
    "\n",
    "quote = \"You must be the change you wish to see in the world.\"\n",
    "\n",
    "print(f'{person_name} once said,\" {quote}\"')"
   ]
  },
  {
   "cell_type": "markdown",
   "id": "3bd6c243",
   "metadata": {},
   "source": [
    "### 2.6 Repeat Exercise 2-5, but this time, represent the famous person’s name using a variable called famous_person. Then compose your message and represent it with a new variable called message. Print your message"
   ]
  },
  {
   "cell_type": "code",
   "execution_count": 33,
   "id": "3bfa5cf8",
   "metadata": {},
   "outputs": [
    {
     "name": "stdout",
     "output_type": "stream",
     "text": [
      "vijay once said, \"You must be the change you wish to see in the world.\"\n"
     ]
    }
   ],
   "source": [
    "person_name = \"vijay\"\n",
    "\n",
    "quote = \"You must be the change you wish to see in the world.\"\n",
    "\n",
    "new_var = f'{person_name} once said, \"{quote}\"'\n",
    "\n",
    "print(new_var)"
   ]
  },
  {
   "cell_type": "markdown",
   "id": "4e980160",
   "metadata": {},
   "source": [
    "### 2.7 : Use a variable to represent a person’s name, and include some whitespace characters at the beginning and end of the name. Make sure you use each character combination, \"\\t\" and \"\\n\", at least once.Print the name once, so the whitespace around the name is displayed. Then print the name using each of the three stripping functions, lstrip(), rstrip(), and strip()"
   ]
  },
  {
   "cell_type": "code",
   "execution_count": 34,
   "id": "d06a934f",
   "metadata": {},
   "outputs": [
    {
     "name": "stdout",
     "output_type": "stream",
     "text": [
      "The given name is:  \n",
      "         aishlee\\sharma         \n",
      "\n",
      "Printing the name using lstrip function: \n",
      " aishlee\\sharma         \n",
      "\n",
      "Printing the name using rstrip function:  \n",
      "         aishlee\\sharma\n",
      "\n",
      "Printing the name using strip function: \n",
      " aishlee\\sharma\n"
     ]
    }
   ],
   "source": [
    "name = \"\\n         aishlee\\sharma         \"\n",
    "print(\"The given name is: \", name)\n",
    "\n",
    "print(\"\\nPrinting the name using lstrip function: \\n\", name.lstrip())\n",
    "\n",
    "print(\"\\nPrinting the name using rstrip function: \", name.rstrip())\n",
    "\n",
    "print(\"\\nPrinting the name using strip function: \\n\", name.strip())"
   ]
  },
  {
   "cell_type": "markdown",
   "id": "8063f90d",
   "metadata": {},
   "source": [
    "### 2.8 : Write addition, subtraction, multiplication, and division operations that each result in the number 8. Be sure to enclose your operations in print() calls to see the results. You should create four lines that look like this:"
   ]
  },
  {
   "cell_type": "code",
   "execution_count": 35,
   "id": "84372fb9",
   "metadata": {},
   "outputs": [
    {
     "name": "stdout",
     "output_type": "stream",
     "text": [
      "8\n",
      "8\n",
      "8\n",
      "8\n"
     ]
    }
   ],
   "source": [
    "print(4+4)\n",
    "\n",
    "print(12-4)\n",
    "\n",
    "print(4*2)\n",
    "\n",
    "print(68//8)"
   ]
  },
  {
   "cell_type": "markdown",
   "id": "85478f2f",
   "metadata": {},
   "source": [
    "### 2.9 : Use a variable to represent your favorite number. Then, using that variable, create a message that reveals your favorite number. Print that message"
   ]
  },
  {
   "cell_type": "code",
   "execution_count": 36,
   "id": "2abcfea6",
   "metadata": {},
   "outputs": [
    {
     "name": "stdout",
     "output_type": "stream",
     "text": [
      "\n",
      " Heyy, You know what....\n",
      " My favorite number is 18\n"
     ]
    }
   ],
   "source": [
    "fav_no = 18\n",
    "\n",
    "print(f\"\\n Heyy, You know what....\\n My favorite number is {fav_no}\")"
   ]
  },
  {
   "cell_type": "markdown",
   "id": "e74636e5",
   "metadata": {},
   "source": [
    "### 2.10 : Adding Comments: Choose two of the programs you’ve written, and add at least one comment to each. If you don’t have anything specific to write because your programs are too simple at this point, just add your name and the current date at the top of each program file. Then write one sentence describing what the program does"
   ]
  },
  {
   "cell_type": "code",
   "execution_count": 37,
   "id": "2b0cff13",
   "metadata": {},
   "outputs": [
    {
     "name": "stdout",
     "output_type": "stream",
     "text": [
      "I'm aishlee\n",
      "\n",
      "The new value of a variable is:  25 \n",
      "\n",
      "\n",
      "4\n",
      "4\n",
      "4\n",
      "8\n"
     ]
    }
   ],
   "source": [
    "                 # PROGRAM - 1\n",
    "\n",
    "# printing my name \n",
    "\n",
    "s1 = \"I'm aishlee\"\n",
    "print(s1)\n",
    "\n",
    "# Assigning new value of the variable\n",
    "s1 = 25\n",
    "print(\"\\nThe new value of a variable is: \", s1, \"\\n\\n\")\n",
    "\n",
    "                 # PROGRAM - 2\n",
    "\n",
    "# printing the addition \n",
    "print(2+2)\n",
    "\n",
    "# printing the subtraction\n",
    "print(8-4)\n",
    "\n",
    "# printing the multiplication\n",
    "print(2*2)\n",
    "\n",
    "# printing the floor division\n",
    "print(68//8)"
   ]
  },
  {
   "cell_type": "code",
   "execution_count": null,
   "id": "5a1f9d8f",
   "metadata": {},
   "outputs": [],
   "source": []
  },
  {
   "cell_type": "code",
   "execution_count": null,
   "id": "6f816d95",
   "metadata": {},
   "outputs": [],
   "source": []
  },
  {
   "cell_type": "code",
   "execution_count": null,
   "id": "9d1ef454",
   "metadata": {},
   "outputs": [],
   "source": []
  },
  {
   "cell_type": "code",
   "execution_count": null,
   "id": "6767aa35",
   "metadata": {},
   "outputs": [],
   "source": []
  }
 ],
 "metadata": {
  "kernelspec": {
   "display_name": "Python 3 (ipykernel)",
   "language": "python",
   "name": "python3"
  },
  "language_info": {
   "codemirror_mode": {
    "name": "ipython",
    "version": 3
   },
   "file_extension": ".py",
   "mimetype": "text/x-python",
   "name": "python",
   "nbconvert_exporter": "python",
   "pygments_lexer": "ipython3",
   "version": "3.9.7"
  }
 },
 "nbformat": 4,
 "nbformat_minor": 5
}
